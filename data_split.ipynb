{
 "cells": [
  {
   "attachments": {},
   "cell_type": "markdown",
   "metadata": {},
   "source": [
    "## Prepare Data: Split data into train, validation, and test set\n",
    "\n",
    "Using the data of the position and the torque of the valve during the closing process for training.\n",
    "\n",
    "In this section, we will split the data into train and test set in preparation for fitting a basic model in the next section."
   ]
  },
  {
   "attachments": {},
   "cell_type": "markdown",
   "metadata": {},
   "source": [
    "### Read in Data"
   ]
  },
  {
   "cell_type": "code",
   "execution_count": 7,
   "metadata": {
    "scrolled": true
   },
   "outputs": [],
   "source": [
    "import pandas as pd\n",
    "from sklearn.model_selection import train_test_split\n",
    "\n",
    "valve_close = pd.read_csv('data_closing.csv')\n",
    "valve_open = pd.read_csv('data_opening.csv')"
   ]
  },
  {
   "attachments": {},
   "cell_type": "markdown",
   "metadata": {},
   "source": [
    "### Split into train, validation, and test set"
   ]
  },
  {
   "cell_type": "code",
   "execution_count": 8,
   "metadata": {},
   "outputs": [],
   "source": [
    "features_close = valve_close['position']\n",
    "labels_close = valve_close['torque']\n",
    "\n",
    "\n",
    "X_train, X_test, y_train, y_test = train_test_split(features_close, labels_close, test_size=0.2, shuffle=False, stratify=None)"
   ]
  },
  {
   "cell_type": "code",
   "execution_count": 9,
   "metadata": {},
   "outputs": [
    {
     "name": "stdout",
     "output_type": "stream",
     "text": [
      "0.8\n",
      "0.2\n"
     ]
    }
   ],
   "source": [
    "for dataset in [y_train, y_test]:\n",
    "    print(round(len(dataset) / len (labels_close), 2))"
   ]
  },
  {
   "attachments": {},
   "cell_type": "markdown",
   "metadata": {},
   "source": [
    "### Write out all data"
   ]
  },
  {
   "cell_type": "code",
   "execution_count": 10,
   "metadata": {},
   "outputs": [],
   "source": [
    "X_train.to_csv('train_features_close.csv', index=False)\n",
    "X_test.to_csv('test_features_close.csv', index=False)\n",
    "\n",
    "y_train.to_csv('train_labels_close.csv', index=False)\n",
    "y_test.to_csv('test_labels_close.csv', index=False)"
   ]
  },
  {
   "cell_type": "code",
   "execution_count": 11,
   "metadata": {},
   "outputs": [],
   "source": [
    "features_open = valve_open['position']\n",
    "labels_open = valve_open['torque']\n",
    "\n",
    "X_train, X_test, y_train, y_test = train_test_split(features_open, labels_open, test_size=0.2, shuffle=False, stratify=None)"
   ]
  },
  {
   "cell_type": "code",
   "execution_count": 12,
   "metadata": {},
   "outputs": [],
   "source": [
    "X_train.to_csv('train_features_open.csv', index=False)\n",
    "X_test.to_csv('test_features_open.csv', index=False)\n",
    "\n",
    "y_train.to_csv('train_labels_open.csv', index=False)\n",
    "y_test.to_csv('test_labels_open.csv', index=False)"
   ]
  }
 ],
 "metadata": {
  "kernelspec": {
   "display_name": "Python 3",
   "language": "python",
   "name": "python3"
  },
  "language_info": {
   "codemirror_mode": {
    "name": "ipython",
    "version": 3
   },
   "file_extension": ".py",
   "mimetype": "text/x-python",
   "name": "python",
   "nbconvert_exporter": "python",
   "pygments_lexer": "ipython3",
   "version": "3.10.10"
  }
 },
 "nbformat": 4,
 "nbformat_minor": 2
}
