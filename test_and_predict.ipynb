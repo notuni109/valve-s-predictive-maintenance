{
 "cells": [
  {
   "attachments": {},
   "cell_type": "markdown",
   "metadata": {},
   "source": [
    "### Read in Data"
   ]
  },
  {
   "cell_type": "code",
   "execution_count": 9,
   "metadata": {},
   "outputs": [],
   "source": [
    "import joblib\n",
    "import pandas as pd\n",
    "from sklearn.metrics import r2_score, precision_score, recall_score\n",
    "from time import time\n",
    "import xlsxwriter\n",
    "\n",
    "te_features_close = pd.read_csv('test_features_close.csv')\n",
    "te_labels_close = pd.read_csv('test_labels_close.csv')\n",
    "\n",
    "te_features_open = pd.read_csv('test_features_open.csv')\n",
    "te_labels_open = pd.read_csv('test_labels_open.csv')"
   ]
  },
  {
   "attachments": {},
   "cell_type": "markdown",
   "metadata": {},
   "source": [
    "### Evaluate models on the test set"
   ]
  },
  {
   "cell_type": "code",
   "execution_count": 10,
   "metadata": {},
   "outputs": [],
   "source": [
    "dt_model_close = joblib.load('models/DT_model_close.pkl')\n",
    "dt_model_open = joblib.load('models/DT_model_open.pkl')"
   ]
  },
  {
   "cell_type": "code",
   "execution_count": 11,
   "metadata": {},
   "outputs": [],
   "source": [
    "def evaluate_model(model, features, labels):\n",
    "    start = time()\n",
    "    pred = model.predict(features)\n",
    "    end = time()\n",
    "    accuracy = round(r2_score(labels, pred), 3)\n",
    "    print('{} -- R2 score: {} / Latency: {}ms'.format(str(model).split('(')[0], \n",
    "                                                                                   accuracy,\n",
    "                                                                                   round((end - start)*1000, 1)))"
   ]
  },
  {
   "cell_type": "code",
   "execution_count": 12,
   "metadata": {},
   "outputs": [
    {
     "name": "stdout",
     "output_type": "stream",
     "text": [
      "DecisionTreeRegressor -- R2 score: 0.902 / Latency: 1.0ms\n"
     ]
    }
   ],
   "source": [
    "evaluate_model(dt_model_close, te_features_close, te_labels_close)"
   ]
  },
  {
   "cell_type": "code",
   "execution_count": 13,
   "metadata": {},
   "outputs": [
    {
     "name": "stdout",
     "output_type": "stream",
     "text": [
      "DecisionTreeRegressor -- R2 score: 0.169 / Latency: 0.0ms\n"
     ]
    }
   ],
   "source": [
    "evaluate_model(dt_model_open, te_features_open, te_labels_open)"
   ]
  },
  {
   "cell_type": "code",
   "execution_count": 14,
   "metadata": {},
   "outputs": [
    {
     "data": {
      "text/html": [
       "<div>\n",
       "<style scoped>\n",
       "    .dataframe tbody tr th:only-of-type {\n",
       "        vertical-align: middle;\n",
       "    }\n",
       "\n",
       "    .dataframe tbody tr th {\n",
       "        vertical-align: top;\n",
       "    }\n",
       "\n",
       "    .dataframe thead th {\n",
       "        text-align: right;\n",
       "    }\n",
       "</style>\n",
       "<table border=\"1\" class=\"dataframe\">\n",
       "  <thead>\n",
       "    <tr style=\"text-align: right;\">\n",
       "      <th></th>\n",
       "      <th>position</th>\n",
       "      <th>measured torque</th>\n",
       "      <th>predicted torque</th>\n",
       "      <th>squared error</th>\n",
       "    </tr>\n",
       "  </thead>\n",
       "  <tbody>\n",
       "    <tr>\n",
       "      <th>0</th>\n",
       "      <td>591.0</td>\n",
       "      <td>-47</td>\n",
       "      <td>-45.098361</td>\n",
       "      <td>3.616232</td>\n",
       "    </tr>\n",
       "    <tr>\n",
       "      <th>1</th>\n",
       "      <td>559.0</td>\n",
       "      <td>-43</td>\n",
       "      <td>-43.056338</td>\n",
       "      <td>0.003174</td>\n",
       "    </tr>\n",
       "    <tr>\n",
       "      <th>2</th>\n",
       "      <td>530.0</td>\n",
       "      <td>-47</td>\n",
       "      <td>-41.590361</td>\n",
       "      <td>29.264189</td>\n",
       "    </tr>\n",
       "    <tr>\n",
       "      <th>3</th>\n",
       "      <td>498.0</td>\n",
       "      <td>-43</td>\n",
       "      <td>-41.590361</td>\n",
       "      <td>1.987081</td>\n",
       "    </tr>\n",
       "    <tr>\n",
       "      <th>4</th>\n",
       "      <td>469.0</td>\n",
       "      <td>-43</td>\n",
       "      <td>-40.136596</td>\n",
       "      <td>8.199082</td>\n",
       "    </tr>\n",
       "    <tr>\n",
       "      <th>...</th>\n",
       "      <td>...</td>\n",
       "      <td>...</td>\n",
       "      <td>...</td>\n",
       "      <td>...</td>\n",
       "    </tr>\n",
       "    <tr>\n",
       "      <th>2465</th>\n",
       "      <td>387.0</td>\n",
       "      <td>-43</td>\n",
       "      <td>-40.136596</td>\n",
       "      <td>8.199082</td>\n",
       "    </tr>\n",
       "    <tr>\n",
       "      <th>2466</th>\n",
       "      <td>355.0</td>\n",
       "      <td>-39</td>\n",
       "      <td>-40.136596</td>\n",
       "      <td>1.291851</td>\n",
       "    </tr>\n",
       "    <tr>\n",
       "      <th>2467</th>\n",
       "      <td>325.0</td>\n",
       "      <td>-39</td>\n",
       "      <td>-40.136596</td>\n",
       "      <td>1.291851</td>\n",
       "    </tr>\n",
       "    <tr>\n",
       "      <th>2468</th>\n",
       "      <td>292.0</td>\n",
       "      <td>-39</td>\n",
       "      <td>-40.136596</td>\n",
       "      <td>1.291851</td>\n",
       "    </tr>\n",
       "    <tr>\n",
       "      <th>2469</th>\n",
       "      <td>262.0</td>\n",
       "      <td>-39</td>\n",
       "      <td>-40.136596</td>\n",
       "      <td>1.291851</td>\n",
       "    </tr>\n",
       "  </tbody>\n",
       "</table>\n",
       "<p>2470 rows × 4 columns</p>\n",
       "</div>"
      ],
      "text/plain": [
       "      position  measured torque  predicted torque  squared error\n",
       "0        591.0              -47        -45.098361       3.616232\n",
       "1        559.0              -43        -43.056338       0.003174\n",
       "2        530.0              -47        -41.590361      29.264189\n",
       "3        498.0              -43        -41.590361       1.987081\n",
       "4        469.0              -43        -40.136596       8.199082\n",
       "...        ...              ...               ...            ...\n",
       "2465     387.0              -43        -40.136596       8.199082\n",
       "2466     355.0              -39        -40.136596       1.291851\n",
       "2467     325.0              -39        -40.136596       1.291851\n",
       "2468     292.0              -39        -40.136596       1.291851\n",
       "2469     262.0              -39        -40.136596       1.291851\n",
       "\n",
       "[2470 rows x 4 columns]"
      ]
     },
     "execution_count": 14,
     "metadata": {},
     "output_type": "execute_result"
    }
   ],
   "source": [
    "pred = dt_model_close.predict(te_features_close)\n",
    "summary = pd.DataFrame()\n",
    "summary['position'] = te_features_close\n",
    "summary['measured torque'] = te_labels_close['torque']\n",
    "summary[\"predicted torque\"] = pred\n",
    "summary['squared error'] = (summary['measured torque'] - summary[\"predicted torque\"])**2\n",
    "summary.to_excel(\"summary_close.xlsx\", engine='xlsxwriter')\n",
    "summary"
   ]
  },
  {
   "cell_type": "code",
   "execution_count": 15,
   "metadata": {},
   "outputs": [
    {
     "data": {
      "text/html": [
       "<div>\n",
       "<style scoped>\n",
       "    .dataframe tbody tr th:only-of-type {\n",
       "        vertical-align: middle;\n",
       "    }\n",
       "\n",
       "    .dataframe tbody tr th {\n",
       "        vertical-align: top;\n",
       "    }\n",
       "\n",
       "    .dataframe thead th {\n",
       "        text-align: right;\n",
       "    }\n",
       "</style>\n",
       "<table border=\"1\" class=\"dataframe\">\n",
       "  <thead>\n",
       "    <tr style=\"text-align: right;\">\n",
       "      <th></th>\n",
       "      <th>position</th>\n",
       "      <th>measured torque</th>\n",
       "      <th>predicted torque</th>\n",
       "      <th>squared error</th>\n",
       "    </tr>\n",
       "  </thead>\n",
       "  <tbody>\n",
       "    <tr>\n",
       "      <th>0</th>\n",
       "      <td>1000.0</td>\n",
       "      <td>16</td>\n",
       "      <td>21.276730</td>\n",
       "      <td>27.843875</td>\n",
       "    </tr>\n",
       "    <tr>\n",
       "      <th>1</th>\n",
       "      <td>1000.0</td>\n",
       "      <td>16</td>\n",
       "      <td>21.276730</td>\n",
       "      <td>27.843875</td>\n",
       "    </tr>\n",
       "    <tr>\n",
       "      <th>2</th>\n",
       "      <td>1000.0</td>\n",
       "      <td>16</td>\n",
       "      <td>21.276730</td>\n",
       "      <td>27.843875</td>\n",
       "    </tr>\n",
       "    <tr>\n",
       "      <th>3</th>\n",
       "      <td>1000.0</td>\n",
       "      <td>16</td>\n",
       "      <td>21.276730</td>\n",
       "      <td>27.843875</td>\n",
       "    </tr>\n",
       "    <tr>\n",
       "      <th>4</th>\n",
       "      <td>1000.0</td>\n",
       "      <td>16</td>\n",
       "      <td>21.276730</td>\n",
       "      <td>27.843875</td>\n",
       "    </tr>\n",
       "    <tr>\n",
       "      <th>...</th>\n",
       "      <td>...</td>\n",
       "      <td>...</td>\n",
       "      <td>...</td>\n",
       "      <td>...</td>\n",
       "    </tr>\n",
       "    <tr>\n",
       "      <th>2392</th>\n",
       "      <td>1000.0</td>\n",
       "      <td>28</td>\n",
       "      <td>21.276730</td>\n",
       "      <td>45.202365</td>\n",
       "    </tr>\n",
       "    <tr>\n",
       "      <th>2393</th>\n",
       "      <td>1000.0</td>\n",
       "      <td>28</td>\n",
       "      <td>21.276730</td>\n",
       "      <td>45.202365</td>\n",
       "    </tr>\n",
       "    <tr>\n",
       "      <th>2394</th>\n",
       "      <td>1000.0</td>\n",
       "      <td>28</td>\n",
       "      <td>21.276730</td>\n",
       "      <td>45.202365</td>\n",
       "    </tr>\n",
       "    <tr>\n",
       "      <th>2395</th>\n",
       "      <td>1000.0</td>\n",
       "      <td>0</td>\n",
       "      <td>21.276730</td>\n",
       "      <td>452.699221</td>\n",
       "    </tr>\n",
       "    <tr>\n",
       "      <th>2396</th>\n",
       "      <td>998.0</td>\n",
       "      <td>0</td>\n",
       "      <td>3.104478</td>\n",
       "      <td>9.637781</td>\n",
       "    </tr>\n",
       "  </tbody>\n",
       "</table>\n",
       "<p>2397 rows × 4 columns</p>\n",
       "</div>"
      ],
      "text/plain": [
       "      position  measured torque  predicted torque  squared error\n",
       "0       1000.0               16         21.276730      27.843875\n",
       "1       1000.0               16         21.276730      27.843875\n",
       "2       1000.0               16         21.276730      27.843875\n",
       "3       1000.0               16         21.276730      27.843875\n",
       "4       1000.0               16         21.276730      27.843875\n",
       "...        ...              ...               ...            ...\n",
       "2392    1000.0               28         21.276730      45.202365\n",
       "2393    1000.0               28         21.276730      45.202365\n",
       "2394    1000.0               28         21.276730      45.202365\n",
       "2395    1000.0                0         21.276730     452.699221\n",
       "2396     998.0                0          3.104478       9.637781\n",
       "\n",
       "[2397 rows x 4 columns]"
      ]
     },
     "execution_count": 15,
     "metadata": {},
     "output_type": "execute_result"
    }
   ],
   "source": [
    "pred = dt_model_open.predict(te_features_open)\n",
    "summary = pd.DataFrame()\n",
    "summary['position'] = te_features_open\n",
    "summary['measured torque'] = te_labels_open['torque']\n",
    "summary[\"predicted torque\"] = pred\n",
    "summary['squared error'] = (summary['measured torque'] - summary[\"predicted torque\"])**2\n",
    "summary.to_excel(\"summary_open.xlsx\", engine='xlsxwriter')\n",
    "summary"
   ]
  },
  {
   "attachments": {},
   "cell_type": "markdown",
   "metadata": {},
   "source": [
    "### Making prediction on a random sample"
   ]
  },
  {
   "cell_type": "code",
   "execution_count": 16,
   "metadata": {},
   "outputs": [
    {
     "name": "stdout",
     "output_type": "stream",
     "text": [
      "The predicted tourque is [-40.13659606].\n"
     ]
    },
    {
     "name": "stderr",
     "output_type": "stream",
     "text": [
      "c:\\Users\\NgNguyen\\AppData\\Local\\Programs\\Python\\Python310\\lib\\site-packages\\sklearn\\base.py:493: UserWarning: X does not have valid feature names, but DecisionTreeRegressor was fitted with feature names\n",
      "  warnings.warn(\n"
     ]
    }
   ],
   "source": [
    "prediction = dt_model_close.predict([[386]])\n",
    "print(f'The predicted tourque is {prediction}.')"
   ]
  }
 ],
 "metadata": {
  "kernelspec": {
   "display_name": "Python 3",
   "language": "python",
   "name": "python3"
  },
  "language_info": {
   "codemirror_mode": {
    "name": "ipython",
    "version": 3
   },
   "file_extension": ".py",
   "mimetype": "text/x-python",
   "name": "python",
   "nbconvert_exporter": "python",
   "pygments_lexer": "ipython3",
   "version": "3.10.10"
  },
  "orig_nbformat": 4
 },
 "nbformat": 4,
 "nbformat_minor": 2
}
